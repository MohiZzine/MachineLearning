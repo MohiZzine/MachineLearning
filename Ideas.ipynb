{
 "cells": [
  {
   "attachments": {},
   "cell_type": "markdown",
   "metadata": {},
   "source": [
    "> ## Things to search for:\n",
    "### 1. Gender distribution\n",
    "### 2. Label Encoder\n",
    "### 3. One Hot Encoder  (get_dummies)"
   ]
  },
  {
   "attachments": {},
   "cell_type": "markdown",
   "metadata": {},
   "source": [
    "> ## To try:\n",
    "\n",
    "#### 1. LightGBM\n",
    "#### 2. XGBoost\n",
    "#### 3. Check Kaggle\n",
    "#### 4. Gradient Boosting\n",
    "#### 5. Random Forrest\n"
   ]
  },
  {
   "attachments": {},
   "cell_type": "markdown",
   "metadata": {},
   "source": [
    "##### Use the Time Module of Python to check the days of the accidents (By inserting a column of day_name and day_number )"
   ]
  },
  {
   "cell_type": "markdown",
   "metadata": {},
   "source": [
    "### Importance of feature (Use of clf.feature_importance() )"
   ]
  },
  {
   "attachments": {},
   "cell_type": "markdown",
   "metadata": {},
   "source": [
    "### Normalisation & Standarisation // Feature Scalling && Data Leakage"
   ]
  },
  {
   "attachments": {},
   "cell_type": "markdown",
   "metadata": {},
   "source": [
    "### Use of profile_report function from pandas_profiling"
   ]
  }
 ],
 "metadata": {
  "interpreter": {
   "hash": "ad2bdc8ecc057115af97d19610ffacc2b4e99fae6737bb82f5d7fb13d2f2c186"
  },
  "kernelspec": {
   "display_name": "Python 3.8.8 ('base')",
   "language": "python",
   "name": "python3"
  },
  "language_info": {
   "name": "python",
   "version": "3.8.8"
  },
  "orig_nbformat": 4
 },
 "nbformat": 4,
 "nbformat_minor": 2
}
