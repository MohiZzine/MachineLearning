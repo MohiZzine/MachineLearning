{
 "cells": [
  {
   "cell_type": "code",
   "execution_count": 266,
   "metadata": {},
   "outputs": [],
   "source": [
    "import random\n",
    "import pandas as pd\n",
    "import numpy as np\n",
    "import matplotlib.pyplot as plt\n",
    "import seaborn as sns\n",
    "import statistics\n",
    "%matplotlib inline"
   ]
  },
  {
   "cell_type": "code",
   "execution_count": 267,
   "metadata": {},
   "outputs": [],
   "source": [
    "df = pd.read_csv(\"train.csv\")\n",
    "df = df.loc[:, ~df.columns.duplicated()]"
   ]
  },
  {
   "cell_type": "code",
   "execution_count": 268,
   "metadata": {},
   "outputs": [
    {
     "name": "stderr",
     "output_type": "stream",
     "text": [
      "c:\\ProgramData\\Anaconda3\\lib\\site-packages\\seaborn\\_decorators.py:36: FutureWarning: Pass the following variable as a keyword arg: x. From version 0.12, the only valid positional argument will be `data`, and passing other arguments without an explicit keyword will result in an error or misinterpretation.\n",
      "  warnings.warn(\n"
     ]
    },
    {
     "data": {
      "image/png": "[encoded data removed]",
      "text/plain": [
       "<Figure size 432x288 with 1 Axes>"
      ]
     },
     "metadata": {
      "needs_background": "light"
     },
     "output_type": "display_data"
    }
   ],
   "source": [
    "g = sns.countplot(df['target'])\n",
    "g.set_xticklabels(['No Accident', 'Accident'])\n",
    "\n",
    "plt.show()"
   ]
  },
  {
   "cell_type": "code",
   "execution_count": 269,
   "metadata": {},
   "outputs": [],
   "source": [
    "df = df.drop(['ID'], axis = 1)\n"
   ]
  },
  {
   "cell_type": "code",
   "execution_count": 270,
   "metadata": {},
   "outputs": [],
   "source": [
    "for col in ['Policy Start Date', 'Policy End Date', 'First Transaction Date']:\n",
    "    df[col] = df[col].map(lambda x: x.split('-')[0])"
   ]
  },
  {
   "cell_type": "code",
   "execution_count": 271,
   "metadata": {},
   "outputs": [],
   "source": [
    "#df[\"Gender\"].isin([\"Male\", \"Female\", np.nan]).sum()  # 1135 Values\n"
   ]
  },
  {
   "cell_type": "code",
   "execution_count": 272,
   "metadata": {},
   "outputs": [],
   "source": [
    "gender = df.Gender[df['Gender'].isin(['Male', 'Female'])].value_counts().to_dict()  \n",
    "gender = dict(map(lambda g: (g, gender[g] / sum(gender.values())), gender.keys()))\n",
    "\n",
    "def homogenize_gender(g):\n",
    "    if g not in [\"Male\", \"Female\"]:\n",
    "        g = random.choices(list(gender.keys()), list(gender.values()))[0]\n",
    "    return g\n",
    "\n",
    "df.Gender = df.Gender.map(lambda g: homogenize_gender(g))\n",
    "\n",
    "from sklearn.preprocessing import LabelEncoder\n",
    "\n",
    "gender_LE = LabelEncoder()\n",
    "df.Gender = gender_LE.fit_transform(df.Gender)"
   ]
  },
  {
   "cell_type": "code",
   "execution_count": 273,
   "metadata": {},
   "outputs": [],
   "source": [
    "age_dict = {-76: 76, -2: 20, 140: 40, 320: 32, -6099: 60, 5939: 39, -22: 22, 144: 44, -27: 27, 133: 33, -51: 51, 128: 28, -26: 26, -5939: 39, 120: 20}\n",
    "\n",
    "df.replace({\"Age\": age_dict}, inplace = True)\n",
    "# for the remaining outliers of age, try median/mean imputer or with probability distribution\n"
   ]
  },
  {
   "cell_type": "code",
   "execution_count": 274,
   "metadata": {},
   "outputs": [],
   "source": [
    "#df[\"Car_Category\"][df.Car_Category == \"Saloon\"]\n",
    "#Cars = {category: df[\"Car_Category\"][df.Car_Category == \"Saloon\"] for category in df.Car_Category if df[\"Car_Category\"][df.Car_Category == category].count}\n",
    "#df.Car_Category.fillna(\"Saloon\")\n",
    "category_LE = LabelEncoder()\n",
    "df.Car_Category = category_LE.fit_transform(df.Car_Category)"
   ]
  },
  {
   "cell_type": "code",
   "execution_count": 275,
   "metadata": {},
   "outputs": [
    {
     "name": "stdout",
     "output_type": "stream",
     "text": [
      "{'Black': 0.3732380385149891, 'Silver': 0.10998610283899146, 'Grey': 0.10204486797697042, 'As Attached': 0.098868374032162, 'Blue': 0.07166964462973993, 'White': 0.05816954536430415, 'Red': 0.04983124875918205, 'Green': 0.04625769307127258, 'Gold': 0.034345840778241016, 'Ash': 0.026404605916219973, 'Wine': 0.017669247567996822, 'Brown': 0.011514790549930515}\n"
     ]
    }
   ],
   "source": [
    "colours = {colour: sum(df.Subject_Car_Colour == colour) for colour in df.Subject_Car_Colour.value_counts().to_dict() if sum(df.Subject_Car_Colour == colour) > 10}\n",
    "colours = dict(map(lambda colour: (colour, colours[colour] / sum(colours.values())), colours.keys()))\n",
    "print(colours)\n",
    "def impute_colour(col):\n",
    "    if col not in colours.keys():\n",
    "        col = random.choices(list(colours.keys()), list(colours.values()))[0]\n",
    "    return col\n",
    "\n",
    "\n",
    "impute_colour(\"Yellow\")\n",
    "df.Subject_Car_Colour = df.Subject_Car_Colour.map(lambda colour: colours[impute_colour(colour)] * 100)   # percentage of presence of the colour in the dataset\n",
    "#sum(df[\"Subject_Car_Colour\"] == \"Black\")\n",
    "#df.Subject_Car_Colour.value_counts()"
   ]
  },
  {
   "cell_type": "code",
   "execution_count": 276,
   "metadata": {},
   "outputs": [],
   "source": [
    "#df.Subject_Car_Make.\n",
    "cars = {car: sum(df.Subject_Car_Make == car) for car in df.Subject_Car_Make.value_counts().to_dict() if sum(df.Subject_Car_Make == car) > 60}\n",
    "cars = dict(map(lambda car: (car, cars[car] / sum(cars.values())), cars.keys()))\n",
    "\n",
    "def impute_car(car):\n",
    "    if car not in cars.keys():\n",
    "        car = random.choices(list(cars.keys()), list(cars.values()))[0]\n",
    "    return car\n",
    "\n",
    "df.Subject_Car_Make = df.Subject_Car_Make.map(lambda car: cars[impute_car(car)] * 100)   # percentage of presence of the car in the dataset"
   ]
  },
  {
   "cell_type": "code",
   "execution_count": 277,
   "metadata": {},
   "outputs": [
    {
     "name": "stdout",
     "output_type": "stream",
     "text": [
      "{'Victoria Island': 0.31036324786324787, 'Ikeja': 0.10710470085470085, 'Surulere': 0.07692307692307693, 'Abuja Municipal': 0.06196581196581197, 'Lagos Mainland': 0.05929487179487179, 'Lagos Island': 0.059027777777777776, 'Eti-Osa': 0.05795940170940171, 'Lekki': 0.055288461538461536, 'Lagos': 0.04487179487179487, 'Ibeju/Lekki': 0.032852564102564104, 'Oshodi-Isolo': 0.02377136752136752, 'Obia/Akpor': 0.022702991452991452, 'Kosofe': 0.0202991452991453, 'Alimosho': 0.017361111111111112, 'Abuja': 0.017094017094017096, 'Benin': 0.01655982905982906, 'Apapa': 0.01655982905982906}\n"
     ]
    }
   ],
   "source": [
    "LGAs = {LGA: sum(df.LGA_Name == LGA) for LGA in df.LGA_Name.value_counts().to_dict() if sum(df.LGA_Name == LGA) > 60}\n",
    "LGAs = dict(map(lambda LGA: (LGA, LGAs[LGA] / sum(LGAs.values())), LGAs.keys()))\n",
    "print(LGAs)\n",
    "def impute_LGA(LGA):\n",
    "    if LGA not in LGAs.keys():\n",
    "        LGA = random.choices(list(LGAs.keys()), list(LGAs.values()))[0]\n",
    "    return LGA\n",
    "\n",
    "df.LGA_Name = df.LGA_Name.map(lambda LGA: LGAs[impute_LGA(LGA)] * 100)"
   ]
  },
  {
   "cell_type": "code",
   "execution_count": 278,
   "metadata": {},
   "outputs": [],
   "source": [
    "df = df.drop([\"State\"], axis = 1)  # deal with them later"
   ]
  },
  {
   "cell_type": "code",
   "execution_count": 279,
   "metadata": {},
   "outputs": [],
   "source": [
    "#product_encoder = {prod_name: sum(df.ProductName == prod_name) for prod_name in df.ProductName.value_counts().to_dict()}\n",
    "product_encoder = {'Car Vintage': 10, 'Motor Cycle': 20, 'Muuve': 30, 'CarFlex': 40, 'CVTP': 50, 'Car Plus': 60,  'Customized Motor': 70, 'CarSafe': 80, 'Car Classic': 90}\n",
    "df.replace({\"ProductName\": product_encoder}, inplace = True)\n"
   ]
  },
  {
   "cell_type": "code",
   "execution_count": 280,
   "metadata": {},
   "outputs": [],
   "source": [
    "from sklearn.model_selection import train_test_split, StratifiedKFold\n",
    "\n",
    "X = df[[col for col in df.columns if col != \"target\"]]\n",
    "y = df.target\n",
    "X_train, X_test, y_train, y_test = train_test_split(X, y, test_size = 0.3, random_state = 2020)"
   ]
  },
  {
   "cell_type": "code",
   "execution_count": 281,
   "metadata": {},
   "outputs": [],
   "source": [
    "from sklearn.ensemble import RandomForestClassifier\n",
    "from sklearn.metrics import f1_score, classification_report\n",
    "\n",
    "f1_accuracy_list = []\n",
    "RF = RandomForestClassifier(n_estimators = 200, random_state = 2020)\n",
    "\n",
    "SKF1 = StratifiedKFold(n_splits = 5, shuffle = True, random_state = 2020)\n",
    "\n",
    "for train_index, test_index in SKF1.split(X, y):\n",
    "    X_train, X_test = X.iloc[train_index], X.iloc[test_index]\n",
    "    y_train, y_test = y[train_index], y[test_index]\n",
    "    RF.fit(X_train, y_train)\n",
    "    y_pred = RF.predict(X_test)\n",
    "    f1_accuracy_list.append(f1_score(y_test, y_pred))"
   ]
  },
  {
   "cell_type": "code",
   "execution_count": 282,
   "metadata": {},
   "outputs": [
    {
     "name": "stdout",
     "output_type": "stream",
     "text": [
      "List of possible accuracy: [18.912529550827426, 19.607843137254903, 23.27790973871734, 18.95734597156398, 20.361990950226247]\n",
      "\n",
      "Maximum Accuracy That can be obtained from this model is: 23.27790973871734 %\n",
      "\n",
      "Minimum Accuracy: 18.912529550827426 %\n",
      "\n",
      "Overall Accuracy: 20.22352386971798 %\n"
     ]
    }
   ],
   "source": [
    "print('List of possible accuracy:', list(map(lambda x: 100 * x, f1_accuracy_list)))\n",
    "print('\\nMaximum Accuracy That can be obtained from this model is:', max(f1_accuracy_list)*100, '%')\n",
    "print('\\nMinimum Accuracy:', min(f1_accuracy_list)*100, '%')\n",
    "print('\\nOverall Accuracy:', statistics.mean(f1_accuracy_list)*100, '%')"
   ]
  },
  {
   "cell_type": "code",
   "execution_count": 283,
   "metadata": {},
   "outputs": [],
   "source": [
    "import lightgbm as lgb\n",
    "\n",
    "LGBM = lgb.LGBMClassifier(learning_rate = 0.9, max_depth = 5, random_state = 2020)\n",
    "f1_accuracy_list2 = []\n",
    "SKF2 = StratifiedKFold(n_splits = 5, random_state= 2020, shuffle = True)\n",
    "\n",
    "for train_i, test_i in SKF2.split(X, y):\n",
    "    X_train, X_test = X.iloc[train_i], X.iloc[test_i]\n",
    "    y_train, y_test = y[train_i], y[test_i]\n",
    "    RF.fit(X_train, y_train)\n",
    "    y_pred = RF.predict(X_test)\n",
    "    f1_accuracy_list2.append(f1_score(y_test, y_pred))"
   ]
  },
  {
   "cell_type": "code",
   "execution_count": null,
   "metadata": {},
   "outputs": [],
   "source": [
    "k = 5; seed = 2020\n",
    "def lgb_f1_score(y_hat, data):\n",
    "    y_true = data.get_label()\n",
    "    y_hat = np.round(y_hat)\n",
    "    return 'f1', f1_score(y_true, y_hat), True\n",
    "\n",
    "def lgb_train(X, y, X_test, params, verbose = True, verbose_eval = 0, esr = 50, l = [3, 5, 8]):\n",
    "    pred_test = 0; oofs = []; dict = {} \n",
    "    imp_df_Total = pd.DataFrame(columns = ['feature', 'importance_gain', 'importance_seed'])\n",
    "    params['seed'] = seed\n",
    "    ######\n",
    "\n",
    "\n",
    "\n",
    "params = {'ojective': 'binary', 'verbose': -1, 'metric': f1_score, 'seed': 2020}\n",
    "kf = StratifiedKFold(n_splits = k, ranom_state = seed, shuffle = True); i = 0\n",
    "for i, (train_i, valid_i) in enumerate(kf.split(X, y)):\n",
    "    x_train, y_train = X.iloc[train_i], y.iloc[train_i]\n",
    "    x_valid, y_valid = X.iloc[valid_i], y.iloc[valid_i]\n",
    "    trn_data = lgb.Dataset(x_train, label = y_train, categorical_feature = cat)\n",
    "    val_data = lgb.Dataset(x_valid, y_valid, categorical_feature = cat)\n",
    "    evals_results = {}\n",
    "    clf = lgb.train(params, trn_data, 10000, valid_sets = [val_data],\n",
    "    valid_names = ['val'], feval = lgb_f1_score, evals_result = evals_result, verbose_eval = verbose_eval, early_stopping_round = esr)\n",
    "    oof[valid_i] = clf.predict(x.iloc[valid_i])\n",
    "    score = f1_score(y_valid, np.where(oof[valid_i] < 0.5, 0, 1))\n",
    "    pred_test += clf.predict(X_test) / k\n",
    "    importance_df = pd.DataFrame()\n",
    "    importance_df[\"feature\"] = \n",
    "\n",
    "\n"
   ]
  },
  {
   "cell_type": "code",
   "execution_count": 284,
   "metadata": {},
   "outputs": [
    {
     "name": "stdout",
     "output_type": "stream",
     "text": [
      "List of possible accuracy: [18.912529550827426, 19.607843137254903, 23.27790973871734, 18.95734597156398, 20.361990950226247]\n",
      "\n",
      "Maximum Accuracy That can be obtained from this model is: 23.27790973871734 %\n",
      "\n",
      "Minimum Accuracy: 18.912529550827426 %\n",
      "\n",
      "Overall Accuracy: 20.22352386971798 %\n"
     ]
    }
   ],
   "source": [
    "print('List of possible accuracy:', list(map(lambda x: 100 * x, f1_accuracy_list2)))\n",
    "print('\\nMaximum Accuracy That can be obtained from this model is:', max(f1_accuracy_list2)*100, '%')\n",
    "print('\\nMinimum Accuracy:', min(f1_accuracy_list2)*100, '%')\n",
    "print('\\nOverall Accuracy:', statistics.mean(f1_accuracy_list2)*100, '%')"
   ]
  },
  {
   "cell_type": "code",
   "execution_count": 243,
   "metadata": {},
   "outputs": [],
   "source": [
    "#from skopt import BayesSearchCV"
   ]
  },
  {
   "cell_type": "code",
   "execution_count": null,
   "metadata": {},
   "outputs": [],
   "source": []
  }
 ],
 "metadata": {
  "interpreter": {
   "hash": "ad2bdc8ecc057115af97d19610ffacc2b4e99fae6737bb82f5d7fb13d2f2c186"
  },
  "kernelspec": {
   "display_name": "Python 3.8.8 ('base')",
   "language": "python",
   "name": "python3"
  },
  "language_info": {
   "codemirror_mode": {
    "name": "ipython",
    "version": 3
   },
   "file_extension": ".py",
   "mimetype": "text/x-python",
   "name": "python",
   "nbconvert_exporter": "python",
   "pygments_lexer": "ipython3",
   "version": "3.8.8"
  },
  "orig_nbformat": 4
 },
 "nbformat": 4,
 "nbformat_minor": 2
}
