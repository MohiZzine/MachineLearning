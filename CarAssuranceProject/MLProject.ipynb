{
 "cells": [
  {
   "cell_type": "code",
   "execution_count": 2,
   "metadata": {},
   "outputs": [],
   "source": [
    "import pandas as pd\n",
    "import numpy as np\n",
    "import datetime as dt\n",
    "import random\n",
    "from sklearn.ensemble import RandomForestClassifier\n",
    "from sklearn.metrics import classification_report, f1_score\n",
    "from sklearn.preprocessing import OneHotEncoder\n",
    "from sklearn.pipeline import Pipeline\n",
    "from sklearn.compose import ColumnTransformer\n",
    "from sklearn.impute import SimpleImputer\n",
    "import matplotlib.pyplot as plt\n",
    "import copy\n",
    "%matplotlib inline"
   ]
  },
  {
   "cell_type": "code",
   "execution_count": 4,
   "metadata": {},
   "outputs": [
    {
     "data": {
      "text/html": [
       "<div>\n",
       "<style scoped>\n",
       "    .dataframe tbody tr th:only-of-type {\n",
       "        vertical-align: middle;\n",
       "    }\n",
       "\n",
       "    .dataframe tbody tr th {\n",
       "        vertical-align: top;\n",
       "    }\n",
       "\n",
       "    .dataframe thead th {\n",
       "        text-align: right;\n",
       "    }\n",
       "</style>\n",
       "<table border=\"1\" class=\"dataframe\">\n",
       "  <thead>\n",
       "    <tr style=\"text-align: right;\">\n",
       "      <th></th>\n",
       "      <th>ID</th>\n",
       "      <th>Policy Start Date</th>\n",
       "      <th>Policy End Date</th>\n",
       "      <th>Gender</th>\n",
       "      <th>Age</th>\n",
       "      <th>First Transaction Date</th>\n",
       "      <th>No_Pol</th>\n",
       "      <th>Car_Category</th>\n",
       "      <th>Car_Colour</th>\n",
       "      <th>Subject_Car_Make</th>\n",
       "      <th>LGA_Name</th>\n",
       "      <th>State</th>\n",
       "      <th>ProductName</th>\n",
       "      <th>target</th>\n",
       "    </tr>\n",
       "  </thead>\n",
       "  <tbody>\n",
       "    <tr>\n",
       "      <th>0</th>\n",
       "      <td>ID_0040R73</td>\n",
       "      <td>2010-05-14</td>\n",
       "      <td>2011-05-13</td>\n",
       "      <td>Male</td>\n",
       "      <td>30</td>\n",
       "      <td>2010-05-14</td>\n",
       "      <td>1</td>\n",
       "      <td>Saloon</td>\n",
       "      <td>Black</td>\n",
       "      <td>TOYOTA</td>\n",
       "      <td>NaN</td>\n",
       "      <td>NaN</td>\n",
       "      <td>Car Classic</td>\n",
       "      <td>0</td>\n",
       "    </tr>\n",
       "    <tr>\n",
       "      <th>1</th>\n",
       "      <td>ID_0046BNK</td>\n",
       "      <td>2010-11-29</td>\n",
       "      <td>2011-11-28</td>\n",
       "      <td>Female</td>\n",
       "      <td>79</td>\n",
       "      <td>2010-11-29</td>\n",
       "      <td>1</td>\n",
       "      <td>JEEP</td>\n",
       "      <td>Grey</td>\n",
       "      <td>TOYOTA</td>\n",
       "      <td>NaN</td>\n",
       "      <td>NaN</td>\n",
       "      <td>Car Classic</td>\n",
       "      <td>1</td>\n",
       "    </tr>\n",
       "    <tr>\n",
       "      <th>2</th>\n",
       "      <td>ID_005QMC3</td>\n",
       "      <td>2010-03-21</td>\n",
       "      <td>2011-03-20</td>\n",
       "      <td>Male</td>\n",
       "      <td>43</td>\n",
       "      <td>2010-03-21</td>\n",
       "      <td>1</td>\n",
       "      <td>Saloon</td>\n",
       "      <td>Red</td>\n",
       "      <td>TOYOTA</td>\n",
       "      <td>NaN</td>\n",
       "      <td>NaN</td>\n",
       "      <td>Car Classic</td>\n",
       "      <td>0</td>\n",
       "    </tr>\n",
       "    <tr>\n",
       "      <th>3</th>\n",
       "      <td>ID_0079OHW</td>\n",
       "      <td>2010-08-21</td>\n",
       "      <td>2011-08-20</td>\n",
       "      <td>Male</td>\n",
       "      <td>2</td>\n",
       "      <td>2010-08-21</td>\n",
       "      <td>1</td>\n",
       "      <td>NaN</td>\n",
       "      <td>NaN</td>\n",
       "      <td>NaN</td>\n",
       "      <td>NaN</td>\n",
       "      <td>NaN</td>\n",
       "      <td>CarSafe</td>\n",
       "      <td>0</td>\n",
       "    </tr>\n",
       "    <tr>\n",
       "      <th>4</th>\n",
       "      <td>ID_00BRP63</td>\n",
       "      <td>2010-08-29</td>\n",
       "      <td>2010-12-31</td>\n",
       "      <td>Entity</td>\n",
       "      <td>20</td>\n",
       "      <td>2010-08-29</td>\n",
       "      <td>3</td>\n",
       "      <td>NaN</td>\n",
       "      <td>NaN</td>\n",
       "      <td>NaN</td>\n",
       "      <td>Lagos</td>\n",
       "      <td>Lagos</td>\n",
       "      <td>Muuve</td>\n",
       "      <td>1</td>\n",
       "    </tr>\n",
       "    <tr>\n",
       "      <th>5</th>\n",
       "      <td>ID_00D3EF6</td>\n",
       "      <td>2010-10-21</td>\n",
       "      <td>2011-10-20</td>\n",
       "      <td>Male</td>\n",
       "      <td>37</td>\n",
       "      <td>2010-10-21</td>\n",
       "      <td>2</td>\n",
       "      <td>NaN</td>\n",
       "      <td>NaN</td>\n",
       "      <td>NaN</td>\n",
       "      <td>NaN</td>\n",
       "      <td>NaN</td>\n",
       "      <td>Car Classic</td>\n",
       "      <td>0</td>\n",
       "    </tr>\n",
       "    <tr>\n",
       "      <th>6</th>\n",
       "      <td>ID_00HHZ8Y</td>\n",
       "      <td>2010-08-02</td>\n",
       "      <td>2011-08-01</td>\n",
       "      <td>Female</td>\n",
       "      <td>40</td>\n",
       "      <td>2010-08-02</td>\n",
       "      <td>3</td>\n",
       "      <td>NaN</td>\n",
       "      <td>NaN</td>\n",
       "      <td>NaN</td>\n",
       "      <td>Ikeja</td>\n",
       "      <td>Lagos</td>\n",
       "      <td>CVTP</td>\n",
       "      <td>0</td>\n",
       "    </tr>\n",
       "    <tr>\n",
       "      <th>7</th>\n",
       "      <td>ID_00M1X6U</td>\n",
       "      <td>2010-09-12</td>\n",
       "      <td>2011-09-11</td>\n",
       "      <td>Male</td>\n",
       "      <td>43</td>\n",
       "      <td>2010-09-12</td>\n",
       "      <td>1</td>\n",
       "      <td>Saloon</td>\n",
       "      <td>NaN</td>\n",
       "      <td>TOYOTA</td>\n",
       "      <td>NaN</td>\n",
       "      <td>NaN</td>\n",
       "      <td>CarSafe</td>\n",
       "      <td>0</td>\n",
       "    </tr>\n",
       "    <tr>\n",
       "      <th>8</th>\n",
       "      <td>ID_00N7XT1</td>\n",
       "      <td>2010-07-06</td>\n",
       "      <td>2011-07-05</td>\n",
       "      <td>Female</td>\n",
       "      <td>71</td>\n",
       "      <td>2010-07-06</td>\n",
       "      <td>2</td>\n",
       "      <td>JEEP</td>\n",
       "      <td>Black</td>\n",
       "      <td>REXTON</td>\n",
       "      <td>Badagry</td>\n",
       "      <td>Benue</td>\n",
       "      <td>Car Classic</td>\n",
       "      <td>0</td>\n",
       "    </tr>\n",
       "    <tr>\n",
       "      <th>9</th>\n",
       "      <td>ID_00QF156</td>\n",
       "      <td>2010-12-18</td>\n",
       "      <td>2011-12-17</td>\n",
       "      <td>Female</td>\n",
       "      <td>58</td>\n",
       "      <td>2010-12-18</td>\n",
       "      <td>1</td>\n",
       "      <td>NaN</td>\n",
       "      <td>NaN</td>\n",
       "      <td>NaN</td>\n",
       "      <td>Eti-Osa</td>\n",
       "      <td>Eti-Osa</td>\n",
       "      <td>Car Classic</td>\n",
       "      <td>0</td>\n",
       "    </tr>\n",
       "  </tbody>\n",
       "</table>\n",
       "</div>"
      ],
      "text/plain": [
       "           ID Policy Start Date Policy End Date  Gender  Age  \\\n",
       "0  ID_0040R73        2010-05-14      2011-05-13    Male   30   \n",
       "1  ID_0046BNK        2010-11-29      2011-11-28  Female   79   \n",
       "2  ID_005QMC3        2010-03-21      2011-03-20    Male   43   \n",
       "3  ID_0079OHW        2010-08-21      2011-08-20    Male    2   \n",
       "4  ID_00BRP63        2010-08-29      2010-12-31  Entity   20   \n",
       "5  ID_00D3EF6        2010-10-21      2011-10-20    Male   37   \n",
       "6  ID_00HHZ8Y        2010-08-02      2011-08-01  Female   40   \n",
       "7  ID_00M1X6U        2010-09-12      2011-09-11    Male   43   \n",
       "8  ID_00N7XT1        2010-07-06      2011-07-05  Female   71   \n",
       "9  ID_00QF156        2010-12-18      2011-12-17  Female   58   \n",
       "\n",
       "  First Transaction Date  No_Pol Car_Category Car_Colour Subject_Car_Make  \\\n",
       "0             2010-05-14       1       Saloon      Black           TOYOTA   \n",
       "1             2010-11-29       1         JEEP       Grey           TOYOTA   \n",
       "2             2010-03-21       1       Saloon        Red           TOYOTA   \n",
       "3             2010-08-21       1          NaN        NaN              NaN   \n",
       "4             2010-08-29       3          NaN        NaN              NaN   \n",
       "5             2010-10-21       2          NaN        NaN              NaN   \n",
       "6             2010-08-02       3          NaN        NaN              NaN   \n",
       "7             2010-09-12       1       Saloon        NaN           TOYOTA   \n",
       "8             2010-07-06       2         JEEP      Black           REXTON   \n",
       "9             2010-12-18       1          NaN        NaN              NaN   \n",
       "\n",
       "  LGA_Name    State  ProductName  target  \n",
       "0      NaN      NaN  Car Classic       0  \n",
       "1      NaN      NaN  Car Classic       1  \n",
       "2      NaN      NaN  Car Classic       0  \n",
       "3      NaN      NaN      CarSafe       0  \n",
       "4    Lagos    Lagos        Muuve       1  \n",
       "5      NaN      NaN  Car Classic       0  \n",
       "6    Ikeja    Lagos         CVTP       0  \n",
       "7      NaN      NaN      CarSafe       0  \n",
       "8  Badagry    Benue  Car Classic       0  \n",
       "9  Eti-Osa  Eti-Osa  Car Classic       0  "
      ]
     },
     "execution_count": 4,
     "metadata": {},
     "output_type": "execute_result"
    }
   ],
   "source": [
    "df = pd.read_csv(\"train.csv\")\n",
    "df = df.rename(columns = {'Subject_Car_Colour': 'Car_Colour'})\n",
    "df.head(10)\n",
    "#df.Gender[df['Gender'].isin(['Male', 'Female'])].value_counts().to_dict()"
   ]
  },
  {
   "cell_type": "markdown",
   "metadata": {},
   "source": [
    "## Calculate NaN Values in each Column"
   ]
  },
  {
   "cell_type": "code",
   "execution_count": 75,
   "metadata": {},
   "outputs": [
    {
     "name": "stdout",
     "output_type": "stream",
     "text": [
      "The number of NaN values in ID is: \t 0\n",
      "The number of NaN values in Policy Start Date is: \t 0\n",
      "The number of NaN values in Policy End Date is: \t 0\n",
      "The number of NaN values in Gender is: \t 359\n",
      "The number of NaN values in Age is: \t 0\n",
      "The number of NaN values in First Transaction Date is: \t 0\n",
      "The number of NaN values in No_Pol is: \t 0\n",
      "The number of NaN values in Car_Category is: \t 3738\n",
      "The number of NaN values in Car_Colour is: \t 6962\n",
      "The number of NaN values in Subject_Car_Make is: \t 2476\n",
      "The number of NaN values in LGA_Name is: \t 6476\n",
      "The number of NaN values in State is: \t 6488\n",
      "The number of NaN values in ProductName is: \t 0\n",
      "The number of NaN values in target is: \t 0\n"
     ]
    }
   ],
   "source": [
    "for col in df.columns:\n",
    "    print(f\"The number of NaN values in {col} is: \\t {df[col].isna().sum()}\")"
   ]
  },
  {
   "cell_type": "code",
   "execution_count": 76,
   "metadata": {},
   "outputs": [],
   "source": [
    "features = [col for col in df.columns if col != 'target']\n",
    "X = df[features]\n",
    "y = df['target']"
   ]
  },
  {
   "cell_type": "code",
   "execution_count": 77,
   "metadata": {},
   "outputs": [
    {
     "data": {
      "text/plain": [
       "ID                         ID_0040R73\n",
       "Policy Start Date          2010-05-14\n",
       "Policy End Date            2011-05-13\n",
       "Gender                           Male\n",
       "Age                                30\n",
       "First Transaction Date     2010-05-14\n",
       "No_Pol                              1\n",
       "Car_Category                   Saloon\n",
       "Car_Colour                      Black\n",
       "Subject_Car_Make               TOYOTA\n",
       "LGA_Name                          NaN\n",
       "State                             NaN\n",
       "ProductName               Car Classic\n",
       "target                              0\n",
       "Name: 0, dtype: object"
      ]
     },
     "execution_count": 77,
     "metadata": {},
     "output_type": "execute_result"
    }
   ],
   "source": [
    "df.iloc[0]"
   ]
  },
  {
   "cell_type": "markdown",
   "metadata": {},
   "source": [
    "### Replacing NaN values in The Car_Colour  Column with a choosen Color using probability distributions of the Cars"
   ]
  },
  {
   "cell_type": "code",
   "execution_count": 79,
   "metadata": {},
   "outputs": [
    {
     "data": {
      "text/plain": [
       "'Gold'"
      ]
     },
     "execution_count": 79,
     "metadata": {},
     "output_type": "execute_result"
    }
   ],
   "source": [
    "Colours = dict(df.Car_Colour.value_counts())\n",
    "Coloured = df.Car_Colour.notna().sum()\n",
    "Colours = dict(map(lambda colour: (colour, Colours[colour] / Coloured), Colours.keys()))   # keys = Colours, values = Probability distribution of each car \n",
    "\n",
    "Colour_name = [key for key in Colours.keys()]\n",
    "proba = [value for value in Colours.values()]\n",
    "\n",
    "def distribute_Na(colour):\n",
    "    if pd.isnull(colour):\n",
    "        colour = \"\".join(random.choices(Colour_name, proba))\n",
    "    return colour"
   ]
  },
  {
   "cell_type": "code",
   "execution_count": 82,
   "metadata": {},
   "outputs": [
    {
     "data": {
      "text/plain": [
       "0"
      ]
     },
     "execution_count": 82,
     "metadata": {},
     "output_type": "execute_result"
    }
   ],
   "source": [
    "df['Car_Colour'] = df['Car_Colour'].apply(lambda colour: distribute_Na(colour))\n"
   ]
  },
  {
   "cell_type": "code",
   "execution_count": 64,
   "metadata": {},
   "outputs": [
    {
     "data": {
      "text/plain": [
       "0                Black\n",
       "1                 Grey\n",
       "2                  Red\n",
       "3               [Grey]\n",
       "4             [Silver]\n",
       "             ...      \n",
       "12074            Black\n",
       "12075    [As Attached]\n",
       "12076           [Blue]\n",
       "12077            White\n",
       "12078            Black\n",
       "Name: Car_Colour, Length: 12079, dtype: object"
      ]
     },
     "execution_count": 64,
     "metadata": {},
     "output_type": "execute_result"
    }
   ],
   "source": [
    "df.Car_Colour"
   ]
  },
  {
   "cell_type": "code",
   "execution_count": 25,
   "metadata": {},
   "outputs": [
    {
     "ename": "AttributeError",
     "evalue": "'DataFrame' object has no attribute 'Car_Colour'",
     "output_type": "error",
     "traceback": [
      "\u001b[1;31m---------------------------------------------------------------------------\u001b[0m",
      "\u001b[1;31mAttributeError\u001b[0m                            Traceback (most recent call last)",
      "\u001b[1;32m<ipython-input-25-20af4273376e>\u001b[0m in \u001b[0;36m<module>\u001b[1;34m\u001b[0m\n\u001b[1;32m----> 1\u001b[1;33m \u001b[0mdf\u001b[0m\u001b[1;33m.\u001b[0m\u001b[0mCar_Colour\u001b[0m\u001b[1;33m.\u001b[0m\u001b[0mvalue_counts\u001b[0m\u001b[1;33m(\u001b[0m\u001b[1;33m)\u001b[0m\u001b[1;33m\u001b[0m\u001b[1;33m\u001b[0m\u001b[0m\n\u001b[0m",
      "\u001b[1;32mc:\\ProgramData\\Anaconda3\\lib\\site-packages\\pandas\\core\\generic.py\u001b[0m in \u001b[0;36m__getattr__\u001b[1;34m(self, name)\u001b[0m\n\u001b[0;32m   5463\u001b[0m             \u001b[1;32mif\u001b[0m \u001b[0mself\u001b[0m\u001b[1;33m.\u001b[0m\u001b[0m_info_axis\u001b[0m\u001b[1;33m.\u001b[0m\u001b[0m_can_hold_identifiers_and_holds_name\u001b[0m\u001b[1;33m(\u001b[0m\u001b[0mname\u001b[0m\u001b[1;33m)\u001b[0m\u001b[1;33m:\u001b[0m\u001b[1;33m\u001b[0m\u001b[1;33m\u001b[0m\u001b[0m\n\u001b[0;32m   5464\u001b[0m                 \u001b[1;32mreturn\u001b[0m \u001b[0mself\u001b[0m\u001b[1;33m[\u001b[0m\u001b[0mname\u001b[0m\u001b[1;33m]\u001b[0m\u001b[1;33m\u001b[0m\u001b[1;33m\u001b[0m\u001b[0m\n\u001b[1;32m-> 5465\u001b[1;33m             \u001b[1;32mreturn\u001b[0m \u001b[0mobject\u001b[0m\u001b[1;33m.\u001b[0m\u001b[0m__getattribute__\u001b[0m\u001b[1;33m(\u001b[0m\u001b[0mself\u001b[0m\u001b[1;33m,\u001b[0m \u001b[0mname\u001b[0m\u001b[1;33m)\u001b[0m\u001b[1;33m\u001b[0m\u001b[1;33m\u001b[0m\u001b[0m\n\u001b[0m\u001b[0;32m   5466\u001b[0m \u001b[1;33m\u001b[0m\u001b[0m\n\u001b[0;32m   5467\u001b[0m     \u001b[1;32mdef\u001b[0m \u001b[0m__setattr__\u001b[0m\u001b[1;33m(\u001b[0m\u001b[0mself\u001b[0m\u001b[1;33m,\u001b[0m \u001b[0mname\u001b[0m\u001b[1;33m:\u001b[0m \u001b[0mstr\u001b[0m\u001b[1;33m,\u001b[0m \u001b[0mvalue\u001b[0m\u001b[1;33m)\u001b[0m \u001b[1;33m->\u001b[0m \u001b[1;32mNone\u001b[0m\u001b[1;33m:\u001b[0m\u001b[1;33m\u001b[0m\u001b[1;33m\u001b[0m\u001b[0m\n",
      "\u001b[1;31mAttributeError\u001b[0m: 'DataFrame' object has no attribute 'Car_Colour'"
     ]
    }
   ],
   "source": [
    "df.Car_Colour.value_counts()"
   ]
  },
  {
   "cell_type": "code",
   "execution_count": 8,
   "metadata": {},
   "outputs": [
    {
     "data": {
      "text/plain": [
       "0        0\n",
       "1        1\n",
       "2        0\n",
       "3        0\n",
       "4        1\n",
       "        ..\n",
       "12074    1\n",
       "12075    0\n",
       "12076    0\n",
       "12077    0\n",
       "12078    0\n",
       "Name: target, Length: 12079, dtype: int64"
      ]
     },
     "execution_count": 8,
     "metadata": {},
     "output_type": "execute_result"
    }
   ],
   "source": [
    "from sklearn.metrics import f1_score, classification_report\n",
    "\n",
    "from sklearn.metrics import f1_score\n",
    "def lgb_f1_score(y_hat, data):\n",
    "    y_true = data.get_label()\n",
    "    y_hat = np.round(y_hat)\n",
    "    return 'f1', f1_score(y_true, y_hat), True"
   ]
  },
  {
   "cell_type": "code",
   "execution_count": null,
   "metadata": {},
   "outputs": [],
   "source": [
    "from sklearn.preprocessing import LabelEncoder, OneHotEncoder\n",
    "\n",
    "for i in cat_col:\n",
    "    le = LabelEncoder()\n",
    "    le.fit(tr[i]);  tr[i] = le.transform(tr[i])"
   ]
  },
  {
   "cell_type": "code",
   "execution_count": null,
   "metadata": {},
   "outputs": [],
   "source": []
  }
 ],
 "metadata": {
  "interpreter": {
   "hash": "ad2bdc8ecc057115af97d19610ffacc2b4e99fae6737bb82f5d7fb13d2f2c186"
  },
  "kernelspec": {
   "display_name": "Python 3.8.8 ('base')",
   "language": "python",
   "name": "python3"
  },
  "language_info": {
   "codemirror_mode": {
    "name": "ipython",
    "version": 3
   },
   "file_extension": ".py",
   "mimetype": "text/x-python",
   "name": "python",
   "nbconvert_exporter": "python",
   "pygments_lexer": "ipython3",
   "version": "3.8.8"
  },
  "orig_nbformat": 4
 },
 "nbformat": 4,
 "nbformat_minor": 2
}
