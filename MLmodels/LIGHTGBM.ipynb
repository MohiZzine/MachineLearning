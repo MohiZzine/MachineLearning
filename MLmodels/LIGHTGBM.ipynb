{
 "cells": [
  {
   "cell_type": "code",
   "execution_count": 43,
   "metadata": {},
   "outputs": [],
   "source": [
    "import pandas as pd\n",
    "import numpy as np\n",
    "import lightgbm as lgb\n",
    "from sklearn.model_selection import train_test_split\n",
    "from sklearn.metrics import classification_report, f1_score\n",
    "import statistics as st\n",
    "import random\n",
    "import copy\n",
    "import matplotlib.pyplot as plt\n",
    "%matplotlib inline"
   ]
  },
  {
   "cell_type": "code",
   "execution_count": 44,
   "metadata": {},
   "outputs": [],
   "source": [
    "df = pd.read_csv(\"train.csv\")\n",
    "X = df[[col for col in df.columns if col != 'target' and df[col].dtype in ['int64', 'float64']]]\n",
    "y = df.target\n"
   ]
  },
  {
   "cell_type": "code",
   "execution_count": 49,
   "metadata": {},
   "outputs": [
    {
     "name": "stderr",
     "output_type": "stream",
     "text": [
      "<ipython-input-49-5682c3582d53>:12: SettingWithCopyWarning: \n",
      "A value is trying to be set on a copy of a slice from a DataFrame.\n",
      "Try using .loc[row_indexer,col_indexer] = value instead\n",
      "\n",
      "See the caveats in the documentation: https://pandas.pydata.org/pandas-docs/stable/user_guide/indexing.html#returning-a-view-versus-a-copy\n",
      "  X['Age'] = X['Age'].apply(lambda age: homogenize_age(age))\n"
     ]
    }
   ],
   "source": [
    "mean_age = int(st.mean([age for age in df['Age'] if 13 <= age <= 102]))    # The mean age between logical age values\n",
    "ages = df.Age[(df['Age'] <= 70) & (df['Age'] >= 13)].value_counts().to_dict() \n",
    "ages = dict(map(lambda age: (age, ages[age] / sum(ages.values())), ages.keys()))   # probability distribution of each of the logical age values\n",
    "age_values = [age for age in ages.keys()]; age_proba = [proba for proba in ages.values()]   # ages and their probabilities\n",
    "\n",
    "def homogenize_age(age: int) -> int:   # Randomly assigns a non-logical age to a logical one based on probability distribution of the other ages\n",
    "    if not 13 <= age <= 65 or age == np.nan:\n",
    "        age = random.choices(list(ages.keys()), list(ages.values()))[0]\n",
    "    return age\n",
    "\n",
    "#df.Age.value_counts().to_dict()\n",
    "X['Age'] = X['Age'].apply(lambda age: homogenize_age(age))"
   ]
  },
  {
   "cell_type": "code",
   "execution_count": 50,
   "metadata": {},
   "outputs": [
    {
     "name": "stdout",
     "output_type": "stream",
     "text": [
      "[20]\ttraining's binary_logloss: 0.337099\tvalid_0's binary_logloss: 0.366508\n",
      "[40]\ttraining's binary_logloss: 0.336431\tvalid_0's binary_logloss: 0.36829\n",
      "[60]\ttraining's binary_logloss: 0.336154\tvalid_0's binary_logloss: 0.368869\n",
      "[80]\ttraining's binary_logloss: 0.336001\tvalid_0's binary_logloss: 0.369689\n",
      "[100]\ttraining's binary_logloss: 0.335888\tvalid_0's binary_logloss: 0.370455\n"
     ]
    },
    {
     "name": "stderr",
     "output_type": "stream",
     "text": [
      "c:\\ProgramData\\Anaconda3\\lib\\site-packages\\lightgbm\\sklearn.py:736: UserWarning: 'verbose' argument is deprecated and will be removed in a future release of LightGBM. Pass 'log_evaluation()' callback via 'callbacks' argument instead.\n",
      "  _log_warning(\"'verbose' argument is deprecated and will be removed in a future release of LightGBM. \"\n"
     ]
    },
    {
     "data": {
      "text/plain": [
       "LGBMClassifier(learning_rate=0.9, max_depth=-5, random_state=13)"
      ]
     },
     "execution_count": 50,
     "metadata": {},
     "output_type": "execute_result"
    }
   ],
   "source": [
    "X_train, X_valid, y_train, y_valid = train_test_split(X, y, test_size = 0.25, random_state = 2020)\n",
    "\n",
    "model = lgb.LGBMClassifier(learning_rate = 0.9, max_depth = -5, random_state = 13)\n",
    "\n",
    "model.fit(X_train, y_train, eval_set = [(X_valid, y_valid), (X_train, y_train)], verbose = 20, eval_metric = 'f1_score')"
   ]
  },
  {
   "cell_type": "code",
   "execution_count": 51,
   "metadata": {},
   "outputs": [
    {
     "name": "stdout",
     "output_type": "stream",
     "text": [
      "Training accuracy 0.8822\n",
      "Validation accuracy 0.8768\n"
     ]
    }
   ],
   "source": [
    "print('Training accuracy {:.4f}'.format(model.score(X_train, y_train)))\n",
    "\n",
    "print('Validation accuracy {:.4f}'.format(model.score(X_valid, y_valid)))"
   ]
  },
  {
   "cell_type": "code",
   "execution_count": 52,
   "metadata": {},
   "outputs": [
    {
     "data": {
      "text/plain": [
       "<AxesSubplot:title={'center':'Feature importance'}, xlabel='Feature importance', ylabel='Features'>"
      ]
     },
     "execution_count": 52,
     "metadata": {},
     "output_type": "execute_result"
    },
    {
     "data": {
      "image/png": "[encoded data removed]",
      "text/plain": [
       "<Figure size 432x288 with 1 Axes>"
      ]
     },
     "metadata": {
      "needs_background": "light"
     },
     "output_type": "display_data"
    }
   ],
   "source": [
    "lgb.plot_importance(model)"
   ]
  },
  {
   "cell_type": "code",
   "execution_count": 53,
   "metadata": {},
   "outputs": [
    {
     "name": "stdout",
     "output_type": "stream",
     "text": [
      "              precision    recall  f1-score   support\n",
      "\n",
      "           0       0.88      0.99      0.93      2652\n",
      "           1       0.44      0.04      0.07       368\n",
      "\n",
      "    accuracy                           0.88      3020\n",
      "   macro avg       0.66      0.52      0.50      3020\n",
      "weighted avg       0.83      0.88      0.83      3020\n",
      "\n"
     ]
    }
   ],
   "source": [
    "print(classification_report(y_valid, model.predict(X_valid)))"
   ]
  },
  {
   "cell_type": "code",
   "execution_count": 54,
   "metadata": {},
   "outputs": [
    {
     "name": "stdout",
     "output_type": "stream",
     "text": [
      "0.10561609388097233\n",
      "0.0746268656716418\n"
     ]
    }
   ],
   "source": [
    "print(f1_score(y_train, model.predict(X_train)))\n",
    "\n",
    "print(f1_score(y_valid, model.predict(X_valid)))"
   ]
  },
  {
   "cell_type": "code",
   "execution_count": null,
   "metadata": {},
   "outputs": [],
   "source": []
  }
 ],
 "metadata": {
  "interpreter": {
   "hash": "ad2bdc8ecc057115af97d19610ffacc2b4e99fae6737bb82f5d7fb13d2f2c186"
  },
  "kernelspec": {
   "display_name": "Python 3.8.8 ('base')",
   "language": "python",
   "name": "python3"
  },
  "language_info": {
   "codemirror_mode": {
    "name": "ipython",
    "version": 3
   },
   "file_extension": ".py",
   "mimetype": "text/x-python",
   "name": "python",
   "nbconvert_exporter": "python",
   "pygments_lexer": "ipython3",
   "version": "3.8.8"
  },
  "orig_nbformat": 4
 },
 "nbformat": 4,
 "nbformat_minor": 2
}
